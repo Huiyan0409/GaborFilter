{
 "cells": [
  {
   "cell_type": "code",
   "execution_count": 1,
   "metadata": {},
   "outputs": [],
   "source": [
    "%matplotlib inline\n",
    "import cv2\n",
    "import numpy as np\n",
    "from matplotlib import pyplot as plt\n",
    "from scipy import ndimage\n",
    "from PIL import Image\n",
    "from numpy import asarray\n",
    "import random\n",
    "import os\n",
    "import os.path\n",
    "from os import path\n",
    "import SimpleITK as sitk"
   ]
  },
  {
   "cell_type": "code",
   "execution_count": 2,
   "metadata": {},
   "outputs": [],
   "source": [
    "kernel = np.zeros((21, 21))\n",
    "kernel[11][11] = 1"
   ]
  },
  {
   "cell_type": "code",
   "execution_count": 3,
   "metadata": {},
   "outputs": [],
   "source": [
    "temp = ndimage.distance_transform_edt(1-kernel)\n",
    "kernel = np.exp( - temp** 2 )"
   ]
  },
  {
   "cell_type": "code",
   "execution_count": 4,
   "metadata": {},
   "outputs": [
    {
     "data": {
      "text/plain": [
       "(array([ 355.,  600.,  869., 1123., 1330., 1454., 1424., 1072.,  870.,\n",
       "         578.,  325.]),\n",
       " array([ 0.        ,  0.90909091,  1.81818182,  2.72727273,  3.63636364,\n",
       "         4.54545455,  5.45454545,  6.36363636,  7.27272727,  8.18181818,\n",
       "         9.09090909, 10.        ]),\n",
       " <a list of 11 Patch objects>)"
      ]
     },
     "execution_count": 4,
     "metadata": {},
     "output_type": "execute_result"
    },
    {
     "data": {
      "image/png": "[encoded data removed]",
      "text/plain": [
       "<Figure size 432x288 with 1 Axes>"
      ]
     },
     "metadata": {
      "needs_background": "light"
     },
     "output_type": "display_data"
    }
   ],
   "source": [
    "import scipy.stats as ss\n",
    "\n",
    "r = np.arange(-5, 6)\n",
    "rU, rL = r + 0.5, r - 0.5 \n",
    "prob = ss.norm.cdf(rU, scale = 3) - ss.norm.cdf(rL, scale = 3)\n",
    "prob = prob / prob.sum() #normalize the probabilities so their sum is 1\n",
    "nums = np.random.choice(r, size = 10000, p = prob) + 5\n",
    "plt.hist(nums, bins = len(r))"
   ]
  },
  {
   "cell_type": "code",
   "execution_count": 5,
   "metadata": {},
   "outputs": [],
   "source": [
    "def generate_width(n,sigma=0.5, mu=1.5):\n",
    "    low = random.randint(1,3)\n",
    "    high = random.randint(5,8)\n",
    "    nums = []\n",
    "    nums.append(low)\n",
    "    for i in range(1,n-1):\n",
    "        nums.append(low+(high-low)/n*i)\n",
    "    nums.append(high)\n",
    "    noise = np.random.normal(mu, sigma, [1,len(nums)])\n",
    "    for num in range(len(nums)):\n",
    "        nums[num] = int(nums[num]+ noise[0][num])\n",
    "        if nums[num] == 0:\n",
    "            nums[num] = 1\n",
    "    return nums\n",
    "\n",
    "def generate_intensity(n,sigma=0.01, mu=0.1):\n",
    "    high = round(random.uniform(0.3, 1.0), 10)\n",
    "    low = round(random.uniform(0.05, 0.1), 10)\n",
    "    nums = []\n",
    "    nums.append(low)\n",
    "    for i in range(1,n-1):\n",
    "        nums.append(low+(high-low)/n*i)\n",
    "    nums.append(high)\n",
    "    noise = np.random.normal(mu, sigma, [1,len(nums)])\n",
    "    for num in range(len(nums)):\n",
    "        nums[num] = nums[num] + noise[0][num]\n",
    "        if nums[num] > 1:\n",
    "            nums[num] = 1\n",
    "    return nums\n",
    "     \n",
    "def generate_kernel(w, intensity, sigma=0.1, mu=0.8, noise=0.05):\n",
    "    kernel = np.zeros((2*w-1, 2*w-1))\n",
    "    kernel[w-1][w-1] = 1\n",
    "    temp = ndimage.distance_transform_edt(1-kernel)\n",
    "    kernel = np.exp((-1/(8*w+1))*temp** 2)*intensity\n",
    "#     kernel = kernel * (np.random.randn()*sigma + mu) + np.random.rand(2*w+1, 2*w+1)*noise\n",
    "    return kernel\n",
    "\n",
    "def comp(mat1, mat2): # compare kernel with the corresponding part of image\n",
    "    return 1/2*(mat1+mat2+abs(mat1-mat2))\n"
   ]
  },
  {
   "cell_type": "code",
   "execution_count": 11,
   "metadata": {},
   "outputs": [],
   "source": [
    "kernel=generate_kernel(5, 0.5, mu=0.8, sigma= 0.1)"
   ]
  },
  {
   "cell_type": "code",
   "execution_count": 14,
   "metadata": {},
   "outputs": [],
   "source": [
    "sample = 10\n",
    "start = -sample\n",
    "x = np.arange(start,sample,.01)"
   ]
  },
  {
   "cell_type": "code",
   "execution_count": 15,
   "metadata": {},
   "outputs": [],
   "source": [
    "num1 = 0\n",
    "for a1 in np.arange(15,30,5):\n",
    "    for a2 in np.arange(.02,.03,.01):\n",
    "        for a3 in np.arange(1,50,10):\n",
    "            for a4 in np.arange(-.5,.5,.5):\n",
    "                for a5 in np.arange(-.5,.5,.5):\n",
    "                    for a6 in np.arange(-.5,.5,.5):\n",
    "                        for a7 in np.arange(-.5,.5,.5):\n",
    "                            function_values = a1 * np.sin(a2 * x) + a3 * np.sin(0.7*x) + a4 * np.cos(a5 * x) + a6 * x + a7 * x**2\n",
    "                            y = function_values\n",
    "                            figure, b = plt.subplots()\n",
    "                            plt.plot(x, y)\n",
    "                            b.set_xlim(-10, 10)\n",
    "                            b.set_ylim(-30, 30)\n",
    "                            figure.set_size_inches(1.7, 1.7)\n",
    "                            plt.axis('off')\n",
    "                            plt.savefig(\"./single-origin/%d.png\" % num1, dpi=100,bbox_inches='tight')\n",
    "                            num1 = num1 + 1\n",
    "                            plt.close()"
   ]
  },
  {
   "cell_type": "code",
   "execution_count": 16,
   "metadata": {},
   "outputs": [],
   "source": [
    "for num in range(239):\n",
    "    image = cv2.imread(\"./single-origin/%d.png\" % num)\n",
    "    gray_image = cv2.cvtColor(image, cv2.COLOR_BGR2GRAY)\n",
    "    cv2.imwrite(\"./single-Sub-change/%d.png\" % num, gray_image)\n",
    "    px = np.array(Image.open(\"./single-Sub-change/%d.png\" % num), np.float)\n",
    "    # save x and y\n",
    "    data=[]\n",
    "    x = []\n",
    "    y = []\n",
    "    coverNum = np.zeros((len(px), len(px[0])))\n",
    "    kernelSum = np.zeros((len(px), len(px[0])))\n",
    "    for j in range(len(px[0])):\n",
    "        for i in range(len(px)):\n",
    "            if px[i,j] != 255:\n",
    "                data.append([i,j])\n",
    "    test = np.zeros((len(px), len(px[0])))\n",
    "    for j in range(len(px[0])):\n",
    "        for i in range(len(px)):\n",
    "            if [i,j] in data:\n",
    "                test[i][j] = 1\n",
    "    for i in range(len(data)):\n",
    "        x.append(data[i][1])\n",
    "        y.append(data[i][0])\n",
    "    n = len(x)\n",
    "    widths = generate_width(n-20)\n",
    "    intensity = generate_intensity(n-20)\n",
    "    try:\n",
    "        for i in range(10, len(y)-12):\n",
    "            w1 = widths[i-10]\n",
    "            intensity1 = intensity[i-10]\n",
    "            dis = min(y[i],len(px)-y[i],x[i],len(px[0])-x[i])\n",
    "            w = min(dis-1, w1)\n",
    "            kernel = generate_kernel(w,intensity1,sigma=1,mu=5)\n",
    "            coverNum[y[i]-w+1:y[i]+w, x[i]-w+1:x[i]+w] = coverNum[y[i]-w+1:y[i]+w, x[i]-w+1:x[i]+w]+1\n",
    "            kernelBig = np.zeros((len(px), len(px[0])))\n",
    "            kernelBig[y[i]-w+1:y[i]+w, x[i]-w+1:x[i]+w] = kernel\n",
    "            kernelSum = kernelSum+kernelBig\n",
    "        out = np.divide(kernelSum, coverNum, out=np.zeros_like(kernelSum), where=coverNum!=0)\n",
    "        figure, b = plt.subplots()\n",
    "        figure.set_size_inches(1.7, 1.7)\n",
    "        plt.axis('off')\n",
    "        plt.imshow(1-out, cmap='gray')\n",
    "        plt.savefig(\"./single-Sub-change/%d.png\" % num, dpi=100,pad_inches=0.0,bbox_inches='tight')\n",
    "    except:\n",
    "        print(error)\n",
    "    plt.clf()\n",
    "    plt.close()"
   ]
  },
  {
   "cell_type": "code",
   "execution_count": 17,
   "metadata": {},
   "outputs": [],
   "source": [
    "# rotate\n",
    "for num in range(239):\n",
    "    img = Image.open(\"./single-Sub-change/%d.png\" % num)\n",
    "    img = img.resize((170,170)) \n",
    "    rotate = random.randint(0,360)\n",
    "    img = img.rotate(rotate,fillcolor='white')\n",
    "    img.save(\"./single-change/%d.png\" % num,\"PNG\")\n",
    "    img = Image.open(\"./single-origin/%d.png\" % num)\n",
    "    img = img.resize((170,170)) \n",
    "    img = img.rotate(rotate,fillcolor='white')\n",
    "    img.save(\"./single-origin/%d.png\" % num,\"PNG\")"
   ]
  },
  {
   "cell_type": "code",
   "execution_count": 18,
   "metadata": {},
   "outputs": [],
   "source": [
    "# overlap\n",
    "for numPics in range(5):\n",
    "    selectList = []\n",
    "    for l in range(3):\n",
    "        select = random.randint(0,238)\n",
    "        selectList.append(select)\n",
    "    image_stack = []\n",
    "    for i in range(len(selectList)):\n",
    "        image = cv2.imread(\"./single-origin/%d.png\" % selectList[i])\n",
    "        gray_image = cv2.cvtColor(image, cv2.COLOR_BGR2GRAY)\n",
    "        image_stack.append(gray_image)\n",
    "    image_stack = np.stack(image_stack)\n",
    "    image_mip = np.min(image_stack, axis=0)\n",
    "    cv2.imwrite(\"./origin/%d.png\" % numPics, image_mip)\n",
    "    \n",
    "    # change\n",
    "    image_stack = []\n",
    "    for i in range(len(selectList)):\n",
    "        image = cv2.imread(\"./single-change/%d.png\" % selectList[i])\n",
    "        gray_image = cv2.cvtColor(image, cv2.COLOR_BGR2GRAY)\n",
    "        image_stack.append(gray_image)\n",
    "    image_stack = np.stack(image_stack)\n",
    "    image_mip = np.min(image_stack, axis=0)\n",
    "    cv2.imwrite(\"./change/%d.png\" % numPics, image_mip)"
   ]
  },
  {
   "cell_type": "code",
   "execution_count": 26,
   "metadata": {},
   "outputs": [],
   "source": [
    "# crop to train\n",
    "file = open(\"train.txt\",\"w\")\n",
    "for num in range(5):\n",
    "    im1 = Image.open(\"./origin/%d.png\" % num,\"r\")\n",
    "    im2 = Image.open(\"./change/%d.png\" % num, \"r\")\n",
    "    count = 0\n",
    "    for xAxis in range(0,151,3):\n",
    "        for yAxix in range(0,151,3):\n",
    "            imsub1 = im1.crop((xAxis, yAxix, xAxis+19, yAxix+19))\n",
    "            imsub2 = im2.crop((xAxis, yAxix, xAxis+19, yAxix+19))\n",
    "            imsub1.save(\"./origin-crop-new/%d-%d.png\" % (num,count),\"PNG\")\n",
    "            imsub2.save(\"./change-crop-new/%d-%d.png\" % (num,count),\"PNG\")\n",
    "            count = count+1\n",
    "for a1 in range(4):\n",
    "    emptyCount = 0\n",
    "    for a2 in range(count):\n",
    "        img = np.array(Image.open(\"./origin-crop-new/%d-%d.png\" % (a1,a2)), np.float)\n",
    "        pic = np.zeros((len(img), len(img[0])))\n",
    "        px = []\n",
    "        for j in range(len(img[0])):\n",
    "            for i in range(len(img)):\n",
    "                if img[i,j] < 250:\n",
    "                    px.append([i,j])\n",
    "        for j in range(len(img[0])):\n",
    "            for i in range(len(img)):\n",
    "                if [i,j] in px:\n",
    "                    pic[i][j] = 1\n",
    "        temp = ndimage.distance_transform_edt(1-pic)\n",
    "        if temp[9][9] > 10:\n",
    "            emptyCount = emptyCount + 1\n",
    "            if emptyCount == 10:\n",
    "#                 os.rename(\"./origin-crop-new/%d-%d.png\"%(a1,a2),\"./origin-crop-new/%d-%d.png----0.png\"%(a1,a2))\n",
    "#                 os.rename(\"./change-crop-new/%d-%d.png\"%(a1,a2),\"./change-crop-new/%d-%d.png----0.png\"%(a1,a2))\n",
    "                file.writelines(\"change-crop-new/%d-%d.png 0\\n\"%(a1,a2))\n",
    "                emptyCount = 0\n",
    "            else:\n",
    "                os.remove(\"./origin-crop-new/%d-%d.png\" % (a1,a2))\n",
    "                os.remove(\"./change-crop-new/%d-%d.png\" % (a1,a2))\n",
    "        elif temp[9][9] < 2:\n",
    "#             os.rename(\"./origin-crop-new/%d-%d.png\"%(a1,a2),\"./origin-crop-new/%d-%d.png----1.png\"%(a1,a2))\n",
    "#             os.rename(\"./change-crop-new/%d-%d.png\"%(a1,a2),\"./change-crop-new/%d-%d.png----1.png\"%(a1,a2))\n",
    "            file.writelines(\"change-crop-new/%d-%d.png 1\\n\"%(a1,a2))\n",
    "        else:\n",
    "#             os.rename(\"./origin-crop-new/%d-%d.png\"%(a1,a2),\"./origin-crop-new/%d-%d.png----0.png\"%(a1,a2))\n",
    "#             os.rename(\"./change-crop-new/%d-%d.png\"%(a1,a2),\"./change-crop-new/%d-%d.png----0.png\"%(a1,a2))\n",
    "            file.writelines(\"change-crop-new/%d-%d.png 0\\n\"%(a1,a2))"
   ]
  },
  {
   "cell_type": "code",
   "execution_count": 27,
   "metadata": {},
   "outputs": [],
   "source": [
    "# crop to test\n",
    "file = open(\"test.txt\",\"w\")\n",
    "for a1 in range(4,5):\n",
    "    emptyCount = 0\n",
    "    for a2 in range(count):\n",
    "        img = np.array(Image.open(\"./origin-crop-new/%d-%d.png\" % (a1,a2)), np.float)\n",
    "        pic = np.zeros((len(img), len(img[0])))\n",
    "        px = []\n",
    "        for j in range(len(img[0])):\n",
    "            for i in range(len(img)):\n",
    "                if img[i,j] < 250:\n",
    "                    px.append([i,j])\n",
    "        for j in range(len(img[0])):\n",
    "            for i in range(len(img)):\n",
    "                if [i,j] in px:\n",
    "                    pic[i][j] = 1\n",
    "        temp = ndimage.distance_transform_edt(1-pic)\n",
    "        if temp[9][9] > 10:\n",
    "            emptyCount = emptyCount + 1\n",
    "            if emptyCount == 10:\n",
    "#                 os.rename(\"./origin-crop-new/%d-%d.png\"%(a1,a2),\"./origin-crop-new/%d-%d.png----0.png\"%(a1,a2))\n",
    "#                 os.rename(\"./change-crop-new/%d-%d.png\"%(a1,a2),\"./change-crop-new/%d-%d.png----0.png\"%(a1,a2))\n",
    "                file.writelines(\"change-crop-new/%d-%d.png 0\\n\"%(a1,a2))\n",
    "                emptyCount = 0\n",
    "            else:\n",
    "                os.remove(\"./origin-crop-new/%d-%d.png\" % (a1,a2))\n",
    "                os.remove(\"./change-crop-new/%d-%d.png\" % (a1,a2))\n",
    "        elif temp[9][9] < 2:\n",
    "#             os.rename(\"./origin-crop-new/%d-%d.png\"%(a1,a2),\"./origin-crop-new/%d-%d.png----1.png\"%(a1,a2))\n",
    "#             os.rename(\"./change-crop-new/%d-%d.png\"%(a1,a2),\"./change-crop-new/%d-%d.png----1.png\"%(a1,a2))\n",
    "            file.writelines(\"change-crop-new/%d-%d.png 1\\n\"%(a1,a2))\n",
    "        else:\n",
    "#             os.rename(\"./origin-crop-new/%d-%d.png\"%(a1,a2),\"./origin-crop-new/%d-%d.png----0.png\"%(a1,a2))\n",
    "#             os.rename(\"./change-crop-new/%d-%d.png\"%(a1,a2),\"./change-crop-new/%d-%d.png----0.png\"%(a1,a2))\n",
    "            file.writelines(\"change-crop-new/%d-%d.png 0\\n\"%(a1,a2))"
   ]
  },
  {
   "cell_type": "code",
   "execution_count": null,
   "metadata": {},
   "outputs": [],
   "source": []
  }
 ],
 "metadata": {
  "kernelspec": {
   "display_name": "Python 3",
   "language": "python",
   "name": "python3"
  },
  "language_info": {
   "codemirror_mode": {
    "name": "ipython",
    "version": 3
   },
   "file_extension": ".py",
   "mimetype": "text/x-python",
   "name": "python",
   "nbconvert_exporter": "python",
   "pygments_lexer": "ipython3",
   "version": "3.7.7"
  }
 },
 "nbformat": 4,
 "nbformat_minor": 2
}
